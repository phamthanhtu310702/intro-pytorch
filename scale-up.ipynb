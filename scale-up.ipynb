{
 "cells": [
  {
   "cell_type": "markdown",
   "metadata": {},
   "source": [
    "# Scale up with Pytorch"
   ]
  },
  {
   "cell_type": "markdown",
   "metadata": {},
   "source": [
    "## 1. Using IterableDataset\n",
    "## 2. Understand GPUs for Pytorch\n",
    "## 3. Scaling up gradient descent with a GPU core"
   ]
  },
  {
   "cell_type": "code",
   "execution_count": 13,
   "metadata": {},
   "outputs": [],
   "source": [
    "import os\n",
    "import time\n",
    "import torch as pt\n",
    "from torch.utils.data import TensorDataset, DataLoader\n",
    "from kaen.torch import ObjectStorageDataset as osds"
   ]
  },
  {
   "cell_type": "markdown",
   "metadata": {},
   "source": [
    "Here, the model parameters (also known as coefficients in linear regression) \n",
    "are assigned to the w variable and the model bias (intercept) is assigned to b."
   ]
  },
  {
   "cell_type": "code",
   "execution_count": 8,
   "metadata": {},
   "outputs": [],
   "source": [
    "pt.set_default_dtype(pt.float64)\n",
    "FEATURE_COUNT = 8\n",
    "w = pt.nn.init.kaiming_uniform_(pt.empty(FEATURE_COUNT,1,requires_grad = True))\n",
    "b = pt.nn.init.kaiming_uniform_(pt.empty(1,1,requires_grad = True))"
   ]
  },
  {
   "cell_type": "code",
   "execution_count": null,
   "metadata": {},
   "outputs": [],
   "source": [
    "pt.manual_seed(0)\n",
    "pt.set_default_dtype(pt.float64)\n",
    "BUCKET_ID = os.environ['BUCKET_ID'] \n",
    "AWS_DEFAULT_REGION = os.environ['AWS_DEFAULT_REGION']\n",
    "BATCH_SIZE = 2 ** 20 #evaluates to 1_048_576\n",
    "train_ds = osds(f\"s3://dc-taxi-{BUCKET_ID}-{AWS_DEFAULT_REGION}/csv/dev/part*.csv\",\n",
    "                storage_options = {'anon': False},\n",
    "                batch_size = BATCH_SIZE)\n",
    "\n",
    "train_dl = DataLoader(train_ds, batch_size=None)\n"
   ]
  },
  {
   "cell_type": "code",
   "execution_count": 9,
   "metadata": {},
   "outputs": [],
   "source": [
    "def forward(X):\n",
    "    y_est = X@w + b \n",
    "    return y_est.squeeze()\n"
   ]
  },
  {
   "cell_type": "code",
   "execution_count": 14,
   "metadata": {},
   "outputs": [],
   "source": [
    "def batchToXy(batch):\n",
    "  batch = batch.squeeze_()\n",
    "  return batch[:, 1:], batch[:, 0]"
   ]
  },
  {
   "cell_type": "code",
   "execution_count": 20,
   "metadata": {},
   "outputs": [],
   "source": [
    "LEARNING_RATE = 0.03\n",
    "optimizer = pt.optim.SGD([w,b],lr = LEARNING_RATE)\n",
    "\n",
    "GRADIENT_NORM = None\n",
    "ITERATION_COUNT = 5"
   ]
  },
  {
   "cell_type": "code",
   "execution_count": null,
   "metadata": {},
   "outputs": [],
   "source": [
    "for iter_idx, batch in zip(range(ITERATION_COUNT), train_dl):\n",
    "    start_ts = time.perf_counter()\n",
    "    X, y = batchToXy(batch)\n",
    "    y_est = forward(X)\n",
    "    mse = pt.nn.functional.mse_loss(y_est, y)\n",
    "    mse.backward()\n",
    "    pt.nn.utils.clip_grad_norm_([w, b],\n",
    "                              GRADIENT_NORM) if GRADIENT_NORM else None\n",
    "    optimizer.step()\n",
    "    optimizer.zero_grad()\n",
    "    sec_iter = time.perf_counter() - start_ts\n",
    "    print(f\"Iteration: {iter_idx:03d}, Seconds/Iteration: {sec_iter:.3f}MSE: {mse.data.item():.2f}\")"
   ]
  }
 ],
 "metadata": {
  "kernelspec": {
   "display_name": "Python 3.9.13 ('torch')",
   "language": "python",
   "name": "python3"
  },
  "language_info": {
   "codemirror_mode": {
    "name": "ipython",
    "version": 3
   },
   "file_extension": ".py",
   "mimetype": "text/x-python",
   "name": "python",
   "nbconvert_exporter": "python",
   "pygments_lexer": "ipython3",
   "version": "3.9.13"
  },
  "orig_nbformat": 4,
  "vscode": {
   "interpreter": {
    "hash": "5ffa61d47449aaf04ff74c970d58e2f8126d8497d1122c0c3ba55342874a97e9"
   }
  }
 },
 "nbformat": 4,
 "nbformat_minor": 2
}
